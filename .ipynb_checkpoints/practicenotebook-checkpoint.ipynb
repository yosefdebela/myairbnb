{
 "cells": [
  {
   "cell_type": "code",
   "execution_count": 61,
   "id": "ad5a8602-e3a6-4f2e-8f9e-9eff03e0ee34",
   "metadata": {},
   "outputs": [],
   "source": [
    "from models.base_model import BaseModel\n",
    "from datetime import datetime\n",
    "import json\n",
    "from models.user import User\n"
   ]
  },
  {
   "cell_type": "code",
   "execution_count": 24,
   "id": "ca65aa1e-fdc1-4531-9ee1-10d65d24fa62",
   "metadata": {},
   "outputs": [],
   "source": [
    "one = BaseModel()"
   ]
  },
  {
   "cell_type": "code",
   "execution_count": 25,
   "id": "09b321b2-61ef-4a23-9329-7bb56b422f8b",
   "metadata": {},
   "outputs": [
    {
     "data": {
      "text/plain": [
       "{'__class__': 'BaseModel',\n",
       " 'created_at': '2025-04-28T03:08:52.652697',\n",
       " 'updated_at': '2025-04-28T03:08:52.652708',\n",
       " 'id': '089f3338-e5ea-40e9-8a9c-8d97bc1e4654'}"
      ]
     },
     "execution_count": 25,
     "metadata": {},
     "output_type": "execute_result"
    }
   ],
   "source": [
    "one.to_dict()"
   ]
  },
  {
   "cell_type": "code",
   "execution_count": 26,
   "id": "29c3f18e-5e1d-4b9d-83a0-5edbefc387e3",
   "metadata": {},
   "outputs": [
    {
     "data": {
      "text/plain": [
       "{'created_at': datetime.datetime(2025, 4, 28, 3, 8, 52, 652697),\n",
       " 'updated_at': datetime.datetime(2025, 4, 28, 3, 8, 52, 652708),\n",
       " 'id': '089f3338-e5ea-40e9-8a9c-8d97bc1e4654'}"
      ]
     },
     "execution_count": 26,
     "metadata": {},
     "output_type": "execute_result"
    }
   ],
   "source": [
    "one.__dict__"
   ]
  },
  {
   "cell_type": "code",
   "execution_count": 27,
   "id": "5e7782fc-0ec4-4b70-b2ed-ff0520ad67f1",
   "metadata": {},
   "outputs": [],
   "source": [
    "dic2 = {}"
   ]
  },
  {
   "cell_type": "code",
   "execution_count": 28,
   "id": "60592503-9ef9-4172-b382-9054abbbbd5a",
   "metadata": {},
   "outputs": [],
   "source": [
    "dic2['__class__'] = one.__class__.__name__\n"
   ]
  },
  {
   "cell_type": "code",
   "execution_count": 29,
   "id": "fa503b77-4f98-48ae-895c-b95301e1d916",
   "metadata": {},
   "outputs": [
    {
     "data": {
      "text/plain": [
       "{'__class__': 'BaseModel'}"
      ]
     },
     "execution_count": 29,
     "metadata": {},
     "output_type": "execute_result"
    }
   ],
   "source": [
    "dic2\n"
   ]
  },
  {
   "cell_type": "code",
   "execution_count": 30,
   "id": "c99f3a07-b06c-4fe7-ba0e-ee3a7c0c886c",
   "metadata": {},
   "outputs": [],
   "source": [
    "two = BaseModel()"
   ]
  },
  {
   "cell_type": "code",
   "execution_count": 32,
   "id": "9331f9ce-ed18-4915-964f-a7ea8593bc8e",
   "metadata": {},
   "outputs": [
    {
     "data": {
      "text/plain": [
       "{'__class__': 'BaseModel'}"
      ]
     },
     "execution_count": 32,
     "metadata": {},
     "output_type": "execute_result"
    }
   ],
   "source": [
    "dic2\n"
   ]
  },
  {
   "cell_type": "code",
   "execution_count": 33,
   "id": "119663b3-1c65-4db1-9ceb-89278980a3bc",
   "metadata": {},
   "outputs": [],
   "source": [
    "for key, value in two.__dict__.items():\n",
    "    if isinstance(value, datetime):\n",
    "            dic2[key] = value.isoformat()\n",
    "    else:\n",
    "            dic2[key] = value"
   ]
  },
  {
   "cell_type": "code",
   "execution_count": 34,
   "id": "e0324de2-4426-41bb-844a-b7e40291ec09",
   "metadata": {},
   "outputs": [
    {
     "data": {
      "text/plain": [
       "{'__class__': 'BaseModel',\n",
       " 'created_at': '2025-04-28T03:08:53.890786',\n",
       " 'updated_at': '2025-04-28T03:08:53.890797',\n",
       " 'id': '687abd95-3a57-435d-b72a-a49a1247ab94'}"
      ]
     },
     "execution_count": 34,
     "metadata": {},
     "output_type": "execute_result"
    }
   ],
   "source": [
    "dic2"
   ]
  },
  {
   "cell_type": "code",
   "execution_count": 94,
   "id": "fc91c058-fd73-402a-933c-650bce8eb844",
   "metadata": {},
   "outputs": [],
   "source": [
    "class FileStorage():\n",
    "    _filePath = 'jsonfile.json'\n",
    "    _object = {}\n",
    "    def save(self, instance):\n",
    "        self._object[f\"{instance['__class__']}.{instance['id']}\"] = instance \n",
    "        with open('jsonfile.json', 'w') as f:\n",
    "            json.dump(self._object, f, indent = 4)\n",
    "    def all(self, instance):\n",
    "        return self._object\n",
    "    def reload(self):\n",
    "        with open('jsonfile.json', 'r') as f:\n",
    "            data = json.load(f)\n",
    "            print(data)\n",
    "    \n",
    "    "
   ]
  },
  {
   "cell_type": "code",
   "execution_count": 95,
   "id": "3260459d-973e-467f-8a62-8f1f438b8f90",
   "metadata": {},
   "outputs": [],
   "source": [
    "storage = FileStorage()"
   ]
  },
  {
   "cell_type": "code",
   "execution_count": 96,
   "id": "8f3effd7-c311-4541-b421-2e573682d947",
   "metadata": {},
   "outputs": [],
   "source": [
    "storage.save(dic2)"
   ]
  },
  {
   "cell_type": "code",
   "execution_count": 97,
   "id": "e58200ec-0ac3-4949-99e4-1b83bdd14bf9",
   "metadata": {},
   "outputs": [],
   "source": [
    "usr = User()"
   ]
  },
  {
   "cell_type": "code",
   "execution_count": 98,
   "id": "a95a3157-92ce-4212-b081-038123700c39",
   "metadata": {},
   "outputs": [
    {
     "data": {
      "text/plain": [
       "'User'"
      ]
     },
     "execution_count": 98,
     "metadata": {},
     "output_type": "execute_result"
    }
   ],
   "source": [
    "usr.__class__.__name__"
   ]
  },
  {
   "cell_type": "code",
   "execution_count": 99,
   "id": "5cd763e8-b7e9-49ee-920d-e2f273f57601",
   "metadata": {},
   "outputs": [],
   "source": [
    "d = {}\n",
    "for key, value in usr.__dict__.items():\n",
    "    d['__class__'] = usr.__class__.__name__\n",
    "    if isinstance(value, datetime):\n",
    "            d[key] = value.isoformat()\n",
    "    else:\n",
    "            d[key] = value"
   ]
  },
  {
   "cell_type": "code",
   "execution_count": 100,
   "id": "d90662c9-6e25-4180-9e36-32ea31f1bd87",
   "metadata": {},
   "outputs": [
    {
     "data": {
      "text/plain": [
       "{'__class__': 'User',\n",
       " 'created_at': '2025-04-28T04:13:33.116693',\n",
       " 'updated_at': '2025-04-28T04:13:33.116706',\n",
       " 'id': 'd23cbb83-3240-4c4a-90e5-aa4abf71f119'}"
      ]
     },
     "execution_count": 100,
     "metadata": {},
     "output_type": "execute_result"
    }
   ],
   "source": [
    "d"
   ]
  },
  {
   "cell_type": "code",
   "execution_count": 101,
   "id": "2399da0c-4a50-4568-9db7-60b15fd70d3d",
   "metadata": {},
   "outputs": [],
   "source": [
    "storage.save(d)"
   ]
  },
  {
   "cell_type": "code",
   "execution_count": 102,
   "id": "cefb66d2-e164-48ee-b402-32b5066f9358",
   "metadata": {},
   "outputs": [
    {
     "data": {
      "text/plain": [
       "{'BaseModel.687abd95-3a57-435d-b72a-a49a1247ab94': {'__class__': 'BaseModel',\n",
       "  'created_at': '2025-04-28T03:08:53.890786',\n",
       "  'updated_at': '2025-04-28T03:08:53.890797',\n",
       "  'id': '687abd95-3a57-435d-b72a-a49a1247ab94'},\n",
       " 'User.d23cbb83-3240-4c4a-90e5-aa4abf71f119': {'__class__': 'User',\n",
       "  'created_at': '2025-04-28T04:13:33.116693',\n",
       "  'updated_at': '2025-04-28T04:13:33.116706',\n",
       "  'id': 'd23cbb83-3240-4c4a-90e5-aa4abf71f119'}}"
      ]
     },
     "execution_count": 102,
     "metadata": {},
     "output_type": "execute_result"
    }
   ],
   "source": [
    "storage.all(d)"
   ]
  },
  {
   "cell_type": "code",
   "execution_count": 103,
   "id": "c399bac8-e36d-4b83-a4b1-51eb32004d01",
   "metadata": {},
   "outputs": [
    {
     "name": "stdout",
     "output_type": "stream",
     "text": [
      "{'BaseModel.687abd95-3a57-435d-b72a-a49a1247ab94': {'__class__': 'BaseModel', 'created_at': '2025-04-28T03:08:53.890786', 'updated_at': '2025-04-28T03:08:53.890797', 'id': '687abd95-3a57-435d-b72a-a49a1247ab94'}, 'User.d23cbb83-3240-4c4a-90e5-aa4abf71f119': {'__class__': 'User', 'created_at': '2025-04-28T04:13:33.116693', 'updated_at': '2025-04-28T04:13:33.116706', 'id': 'd23cbb83-3240-4c4a-90e5-aa4abf71f119'}}\n"
     ]
    }
   ],
   "source": [
    "storage.reload()"
   ]
  },
  {
   "cell_type": "code",
   "execution_count": null,
   "id": "96484c0e-a4a2-4301-ac02-8200b3c7297f",
   "metadata": {},
   "outputs": [],
   "source": []
  },
  {
   "cell_type": "code",
   "execution_count": null,
   "id": "c96f7afc-4415-47b5-9835-9b43b0c98a7e",
   "metadata": {},
   "outputs": [],
   "source": []
  }
 ],
 "metadata": {
  "kernelspec": {
   "display_name": "Python 3 (ipykernel)",
   "language": "python",
   "name": "python3"
  },
  "language_info": {
   "codemirror_mode": {
    "name": "ipython",
    "version": 3
   },
   "file_extension": ".py",
   "mimetype": "text/x-python",
   "name": "python",
   "nbconvert_exporter": "python",
   "pygments_lexer": "ipython3",
   "version": "3.12.5"
  }
 },
 "nbformat": 4,
 "nbformat_minor": 5
}
