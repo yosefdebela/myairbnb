{
 "cells": [
  {
   "cell_type": "code",
   "execution_count": 37,
   "id": "ad5a8602-e3a6-4f2e-8f9e-9eff03e0ee34",
   "metadata": {},
   "outputs": [],
   "source": [
    "from models.base_model import BaseModel\n",
    "from datetime import datetime\n",
    "import json"
   ]
  },
  {
   "cell_type": "code",
   "execution_count": 24,
   "id": "ca65aa1e-fdc1-4531-9ee1-10d65d24fa62",
   "metadata": {},
   "outputs": [],
   "source": [
    "one = BaseModel()"
   ]
  },
  {
   "cell_type": "code",
   "execution_count": 25,
   "id": "09b321b2-61ef-4a23-9329-7bb56b422f8b",
   "metadata": {},
   "outputs": [
    {
     "data": {
      "text/plain": [
       "{'__class__': 'BaseModel',\n",
       " 'created_at': '2025-04-28T03:08:52.652697',\n",
       " 'updated_at': '2025-04-28T03:08:52.652708',\n",
       " 'id': '089f3338-e5ea-40e9-8a9c-8d97bc1e4654'}"
      ]
     },
     "execution_count": 25,
     "metadata": {},
     "output_type": "execute_result"
    }
   ],
   "source": [
    "one.to_dict()"
   ]
  },
  {
   "cell_type": "code",
   "execution_count": 26,
   "id": "29c3f18e-5e1d-4b9d-83a0-5edbefc387e3",
   "metadata": {},
   "outputs": [
    {
     "data": {
      "text/plain": [
       "{'created_at': datetime.datetime(2025, 4, 28, 3, 8, 52, 652697),\n",
       " 'updated_at': datetime.datetime(2025, 4, 28, 3, 8, 52, 652708),\n",
       " 'id': '089f3338-e5ea-40e9-8a9c-8d97bc1e4654'}"
      ]
     },
     "execution_count": 26,
     "metadata": {},
     "output_type": "execute_result"
    }
   ],
   "source": [
    "one.__dict__"
   ]
  },
  {
   "cell_type": "code",
   "execution_count": 27,
   "id": "5e7782fc-0ec4-4b70-b2ed-ff0520ad67f1",
   "metadata": {},
   "outputs": [],
   "source": [
    "dic2 = {}"
   ]
  },
  {
   "cell_type": "code",
   "execution_count": 28,
   "id": "60592503-9ef9-4172-b382-9054abbbbd5a",
   "metadata": {},
   "outputs": [],
   "source": [
    "dic2['__class__'] = one.__class__.__name__\n"
   ]
  },
  {
   "cell_type": "code",
   "execution_count": 29,
   "id": "fa503b77-4f98-48ae-895c-b95301e1d916",
   "metadata": {},
   "outputs": [
    {
     "data": {
      "text/plain": [
       "{'__class__': 'BaseModel'}"
      ]
     },
     "execution_count": 29,
     "metadata": {},
     "output_type": "execute_result"
    }
   ],
   "source": [
    "dic2\n"
   ]
  },
  {
   "cell_type": "code",
   "execution_count": 30,
   "id": "c99f3a07-b06c-4fe7-ba0e-ee3a7c0c886c",
   "metadata": {},
   "outputs": [],
   "source": [
    "two = BaseModel()"
   ]
  },
  {
   "cell_type": "code",
   "execution_count": 32,
   "id": "9331f9ce-ed18-4915-964f-a7ea8593bc8e",
   "metadata": {},
   "outputs": [
    {
     "data": {
      "text/plain": [
       "{'__class__': 'BaseModel'}"
      ]
     },
     "execution_count": 32,
     "metadata": {},
     "output_type": "execute_result"
    }
   ],
   "source": [
    "dic2\n"
   ]
  },
  {
   "cell_type": "code",
   "execution_count": 33,
   "id": "119663b3-1c65-4db1-9ceb-89278980a3bc",
   "metadata": {},
   "outputs": [],
   "source": [
    "for key, value in two.__dict__.items():\n",
    "    if isinstance(value, datetime):\n",
    "            dic2[key] = value.isoformat()\n",
    "    else:\n",
    "            dic2[key] = value"
   ]
  },
  {
   "cell_type": "code",
   "execution_count": 34,
   "id": "e0324de2-4426-41bb-844a-b7e40291ec09",
   "metadata": {},
   "outputs": [
    {
     "data": {
      "text/plain": [
       "{'__class__': 'BaseModel',\n",
       " 'created_at': '2025-04-28T03:08:53.890786',\n",
       " 'updated_at': '2025-04-28T03:08:53.890797',\n",
       " 'id': '687abd95-3a57-435d-b72a-a49a1247ab94'}"
      ]
     },
     "execution_count": 34,
     "metadata": {},
     "output_type": "execute_result"
    }
   ],
   "source": [
    "dic2"
   ]
  },
  {
   "cell_type": "code",
   "execution_count": 46,
   "id": "fc91c058-fd73-402a-933c-650bce8eb844",
   "metadata": {},
   "outputs": [],
   "source": [
    "class FileStorage():\n",
    "    _filePath = 'jsonfile.json'\n",
    "    _object = {}\n",
    "    def save(self, instance):\n",
    "        self._object[f\"{instance.__class__.__name__}.{instance.id}\"] = instance \n",
    "        with open('jsonfile.json', 'w') as f:\n",
    "            json.dump(self._object, f, indent = 4)\n",
    "    \n",
    "    "
   ]
  },
  {
   "cell_type": "code",
   "execution_count": 47,
   "id": "3260459d-973e-467f-8a62-8f1f438b8f90",
   "metadata": {},
   "outputs": [],
   "source": [
    "storage = FileStorage()"
   ]
  },
  {
   "cell_type": "code",
   "execution_count": 49,
   "id": "731c7d1f-92a8-44c2-a4c2-23a68f9e5712",
   "metadata": {},
   "outputs": [
    {
     "ename": "AttributeError",
     "evalue": "'FileStorage' object has no attribute '_FileStorage_'",
     "output_type": "error",
     "traceback": [
      "\u001b[0;31m---------------------------------------------------------------------------\u001b[0m",
      "\u001b[0;31mAttributeError\u001b[0m                            Traceback (most recent call last)",
      "Cell \u001b[0;32mIn[49], line 1\u001b[0m\n\u001b[0;32m----> 1\u001b[0m \u001b[43mstorage\u001b[49m\u001b[38;5;241;43m.\u001b[39;49m\u001b[43m_FileStorage_\u001b[49m\u001b[38;5;241m.\u001b[39m_object\n",
      "\u001b[0;31mAttributeError\u001b[0m: 'FileStorage' object has no attribute '_FileStorage_'"
     ]
    }
   ],
   "source": [
    "storage._FileStorage_._object\n"
   ]
  },
  {
   "cell_type": "code",
   "execution_count": null,
   "id": "8f3effd7-c311-4541-b421-2e573682d947",
   "metadata": {},
   "outputs": [],
   "source": []
  }
 ],
 "metadata": {
  "kernelspec": {
   "display_name": "Python 3 (ipykernel)",
   "language": "python",
   "name": "python3"
  },
  "language_info": {
   "codemirror_mode": {
    "name": "ipython",
    "version": 3
   },
   "file_extension": ".py",
   "mimetype": "text/x-python",
   "name": "python",
   "nbconvert_exporter": "python",
   "pygments_lexer": "ipython3",
   "version": "3.12.5"
  }
 },
 "nbformat": 4,
 "nbformat_minor": 5
}
