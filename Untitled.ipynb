{
 "cells": [
  {
   "cell_type": "code",
   "execution_count": 2,
   "id": "00373d56-d7de-486b-93a7-85df5578fa5d",
   "metadata": {},
   "outputs": [],
   "source": [
    "import os\n",
    "from models.base_model import BaseModel\n",
    "\n"
   ]
  },
  {
   "cell_type": "code",
   "execution_count": 3,
   "id": "e83770cd-a514-4ff8-ac49-8b3d26132bfb",
   "metadata": {},
   "outputs": [],
   "source": [
    "obj = BaseModel()\n"
   ]
  },
  {
   "cell_type": "code",
   "execution_count": 7,
   "id": "0e1a7975-1078-43dd-938e-6dfdadb953c2",
   "metadata": {},
   "outputs": [
    {
     "data": {
      "text/plain": [
       "{'created_at': datetime.datetime(2025, 4, 24, 13, 39, 45, 442886),\n",
       " 'updated_at': datetime.datetime(2025, 4, 24, 13, 39, 45, 442899),\n",
       " 'id': 'dfc0bbc1-ee6b-4146-8f3a-0577d20ef435'}"
      ]
     },
     "execution_count": 7,
     "metadata": {},
     "output_type": "execute_result"
    }
   ],
   "source": [
    "obj.__dict__\n"
   ]
  },
  {
   "cell_type": "code",
   "execution_count": 8,
   "id": "38800f21-c6a6-4d4d-b94f-9b596b3f2078",
   "metadata": {},
   "outputs": [],
   "source": [
    "import json\n"
   ]
  },
  {
   "cell_type": "code",
   "execution_count": 9,
   "id": "d0830a90-0a9b-4465-a91e-4fa449a7cc53",
   "metadata": {},
   "outputs": [],
   "source": [
    "from models.user import User\n"
   ]
  },
  {
   "cell_type": "code",
   "execution_count": 10,
   "id": "ea79c979-cfcf-497d-93d5-47e9943cc95c",
   "metadata": {},
   "outputs": [],
   "source": [
    "obj2 = User()"
   ]
  },
  {
   "cell_type": "code",
   "execution_count": 13,
   "id": "41ff7faf-ff88-482a-953a-69ba3c47e8a6",
   "metadata": {},
   "outputs": [
    {
     "data": {
      "text/plain": [
       "{'created_at': datetime.datetime(2025, 4, 24, 13, 53, 24, 472209),\n",
       " 'updated_at': datetime.datetime(2025, 4, 24, 13, 53, 24, 472224),\n",
       " 'id': 'e4f9bd87-d75d-4d45-bce7-23d7eae59cda'}"
      ]
     },
     "execution_count": 13,
     "metadata": {},
     "output_type": "execute_result"
    }
   ],
   "source": [
    "obj2.__dict__"
   ]
  },
  {
   "cell_type": "code",
   "execution_count": 15,
   "id": "c84faf0b-e75f-49be-8419-b8ad82687e72",
   "metadata": {},
   "outputs": [
    {
     "data": {
      "text/plain": [
       "['__class__',\n",
       " '__delattr__',\n",
       " '__dict__',\n",
       " '__dir__',\n",
       " '__doc__',\n",
       " '__eq__',\n",
       " '__format__',\n",
       " '__ge__',\n",
       " '__getattribute__',\n",
       " '__getstate__',\n",
       " '__gt__',\n",
       " '__hash__',\n",
       " '__init__',\n",
       " '__init_subclass__',\n",
       " '__le__',\n",
       " '__lt__',\n",
       " '__module__',\n",
       " '__ne__',\n",
       " '__new__',\n",
       " '__reduce__',\n",
       " '__reduce_ex__',\n",
       " '__repr__',\n",
       " '__setattr__',\n",
       " '__sizeof__',\n",
       " '__str__',\n",
       " '__subclasshook__',\n",
       " '__weakref__',\n",
       " 'created_at',\n",
       " 'email',\n",
       " 'first_name',\n",
       " 'id',\n",
       " 'last_name',\n",
       " 'password',\n",
       " 'save',\n",
       " 'to_dict',\n",
       " 'updated_at']"
      ]
     },
     "execution_count": 15,
     "metadata": {},
     "output_type": "execute_result"
    }
   ],
   "source": [
    "dir(obj2)"
   ]
  },
  {
   "cell_type": "code",
   "execution_count": 16,
   "id": "ae5ca43f-a6e9-4da1-abe0-70d54f8a55f8",
   "metadata": {},
   "outputs": [
    {
     "data": {
      "text/plain": [
       "{'__class__': 'User',\n",
       " 'created_at': '2025-04-24T13:53:24.472209',\n",
       " 'updated_at': '2025-04-24T13:53:24.472224',\n",
       " 'id': 'e4f9bd87-d75d-4d45-bce7-23d7eae59cda'}"
      ]
     },
     "execution_count": 16,
     "metadata": {},
     "output_type": "execute_result"
    }
   ],
   "source": [
    "obj2.to_dict()"
   ]
  },
  {
   "cell_type": "code",
   "execution_count": 19,
   "id": "2bc34b26-41e2-41d6-98f2-bfafccee9581",
   "metadata": {},
   "outputs": [],
   "source": [
    "from models import storage\n"
   ]
  },
  {
   "cell_type": "code",
   "execution_count": 20,
   "id": "2b0ddafe-910f-4386-a34f-99335180256c",
   "metadata": {},
   "outputs": [
    {
     "data": {
      "text/plain": [
       "['_FileStorage__file_path',\n",
       " '_FileStorage__objects',\n",
       " '__class__',\n",
       " '__delattr__',\n",
       " '__dict__',\n",
       " '__dir__',\n",
       " '__doc__',\n",
       " '__eq__',\n",
       " '__format__',\n",
       " '__ge__',\n",
       " '__getattribute__',\n",
       " '__getstate__',\n",
       " '__gt__',\n",
       " '__hash__',\n",
       " '__init__',\n",
       " '__init_subclass__',\n",
       " '__le__',\n",
       " '__lt__',\n",
       " '__module__',\n",
       " '__ne__',\n",
       " '__new__',\n",
       " '__reduce__',\n",
       " '__reduce_ex__',\n",
       " '__repr__',\n",
       " '__setattr__',\n",
       " '__sizeof__',\n",
       " '__str__',\n",
       " '__subclasshook__',\n",
       " '__weakref__',\n",
       " 'all',\n",
       " 'new',\n",
       " 'reload',\n",
       " 'save']"
      ]
     },
     "execution_count": 20,
     "metadata": {},
     "output_type": "execute_result"
    }
   ],
   "source": [
    "dir(storage)"
   ]
  },
  {
   "cell_type": "code",
   "execution_count": 21,
   "id": "737564fe-38fd-4472-af40-d506503d67aa",
   "metadata": {},
   "outputs": [
    {
     "data": {
      "text/plain": [
       "{'BaseModel.97de2029-5ace-405b-ac56-e34978ce4f0b': {'__class__': 'User',\n",
       "  'created_at': '2025-04-18T22:42:38.217204',\n",
       "  'updated_at': '2025-04-18T22:42:38.217340',\n",
       "  'id': 'f4b786b7-27ab-441c-b189-080508dbe469',\n",
       "  'runniing': 'yes'},\n",
       " 'BaseModel.139bc455-8d44-4bbd-9b88-96a215f93ab2': {'__class__': 'User',\n",
       "  'created_at': '2025-04-18T22:42:38.217204',\n",
       "  'updated_at': '2025-04-18T22:42:38.217340',\n",
       "  'id': 'f4b786b7-27ab-441c-b189-080508dbe469',\n",
       "  'runniing': 'yes'},\n",
       " 'User.4457db3c-c14f-404b-9ae1-9815c6c4e892': {'__class__': 'User',\n",
       "  'created_at': '2025-04-18T22:42:38.217204',\n",
       "  'updated_at': '2025-04-18T22:42:38.217340',\n",
       "  'id': 'f4b786b7-27ab-441c-b189-080508dbe469',\n",
       "  'runniing': 'yes'},\n",
       " 'Amenity.b1f0516c-c246-4944-b088-cc0187969ebf': {'__class__': 'User',\n",
       "  'created_at': '2025-04-18T22:42:38.217204',\n",
       "  'updated_at': '2025-04-18T22:42:38.217340',\n",
       "  'id': 'f4b786b7-27ab-441c-b189-080508dbe469',\n",
       "  'runniing': 'yes'},\n",
       " 'State.035d981f-1cfe-4c17-9f74-2055e1f40f3c': {'__class__': 'User',\n",
       "  'created_at': '2025-04-18T22:42:38.217204',\n",
       "  'updated_at': '2025-04-18T22:42:38.217340',\n",
       "  'id': 'f4b786b7-27ab-441c-b189-080508dbe469',\n",
       "  'runniing': 'yes'},\n",
       " 'User.928d1359-b4f3-4b61-8ba1-36a8fffe6f32': {'__class__': 'User',\n",
       "  'created_at': '2025-04-18T22:42:38.217204',\n",
       "  'updated_at': '2025-04-18T22:42:38.217340',\n",
       "  'id': 'f4b786b7-27ab-441c-b189-080508dbe469',\n",
       "  'runniing': 'yes'},\n",
       " 'User.a1146794-e0c1-491e-b6b1-2030380b15cb': {'__class__': 'User',\n",
       "  'created_at': '2025-04-18T22:42:38.217204',\n",
       "  'updated_at': '2025-04-18T22:42:38.217340',\n",
       "  'id': 'f4b786b7-27ab-441c-b189-080508dbe469',\n",
       "  'runniing': 'yes'},\n",
       " 'User.99dc8e46-bef6-44ee-ae20-2912446e95c1': {'__class__': 'User',\n",
       "  'created_at': '2025-04-18T22:42:38.217204',\n",
       "  'updated_at': '2025-04-18T22:42:38.217340',\n",
       "  'id': 'f4b786b7-27ab-441c-b189-080508dbe469',\n",
       "  'runniing': 'yes'},\n",
       " 'User.3313c745-cf17-4cec-9b90-0d60c904e191': {'__class__': 'User',\n",
       "  'created_at': '2025-04-18T22:42:38.217204',\n",
       "  'updated_at': '2025-04-18T22:42:38.217340',\n",
       "  'id': 'f4b786b7-27ab-441c-b189-080508dbe469',\n",
       "  'runniing': 'yes'},\n",
       " 'User.e607c530-6fc5-40a1-ab78-e5c29c8a6f3f': {'__class__': 'User',\n",
       "  'created_at': '2025-04-18T22:42:38.217204',\n",
       "  'updated_at': '2025-04-18T22:42:38.217340',\n",
       "  'id': 'f4b786b7-27ab-441c-b189-080508dbe469',\n",
       "  'runniing': 'yes'},\n",
       " 'User.f4b786b7-27ab-441c-b189-080508dbe469': {'__class__': 'User',\n",
       "  'created_at': '2025-04-18T22:42:38.217204',\n",
       "  'updated_at': '2025-04-18T22:42:38.217340',\n",
       "  'id': 'f4b786b7-27ab-441c-b189-080508dbe469',\n",
       "  'runniing': 'yes'},\n",
       " 'BaseModel.dfc0bbc1-ee6b-4146-8f3a-0577d20ef435': <models.base_model.BaseModel at 0x7d5403a9cf50>,\n",
       " 'User.e4f9bd87-d75d-4d45-bce7-23d7eae59cda': <models.user.User at 0x7d53e9ba3710>}"
      ]
     },
     "execution_count": 21,
     "metadata": {},
     "output_type": "execute_result"
    }
   ],
   "source": [
    "storage.all()"
   ]
  },
  {
   "cell_type": "code",
   "execution_count": null,
   "id": "a255dea0-5b1e-4215-912f-ab89a1a7de29",
   "metadata": {},
   "outputs": [],
   "source": []
  }
 ],
 "metadata": {
  "kernelspec": {
   "display_name": "Python 3 (ipykernel)",
   "language": "python",
   "name": "python3"
  },
  "language_info": {
   "codemirror_mode": {
    "name": "ipython",
    "version": 3
   },
   "file_extension": ".py",
   "mimetype": "text/x-python",
   "name": "python",
   "nbconvert_exporter": "python",
   "pygments_lexer": "ipython3",
   "version": "3.12.5"
  }
 },
 "nbformat": 4,
 "nbformat_minor": 5
}
